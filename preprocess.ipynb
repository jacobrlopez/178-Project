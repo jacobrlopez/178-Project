{
 "cells": [
  {
   "cell_type": "markdown",
   "metadata": {},
   "source": [
    "# Import Dependencies"
   ]
  },
  {
   "cell_type": "code",
   "execution_count": 32,
   "metadata": {},
   "outputs": [],
   "source": [
    "import csv\n",
    "import os\n",
    "import pandas as pd"
   ]
  },
  {
   "cell_type": "markdown",
   "metadata": {},
   "source": [
    "# Import Data & Create the Data Frame"
   ]
  },
  {
   "cell_type": "code",
   "execution_count": 33,
   "metadata": {},
   "outputs": [],
   "source": [
    "# Load data\n",
    "data_to_clean = 'data/29282-0001-Data.tsv'\n",
    "data = pd.read_csv(data_to_clean, sep='\\t', low_memory=False)\n",
    "\n",
    "# Column specifications\n",
    "Ids = ['M2ID']\n",
    "\n",
    "input_columns_to_select = {\n",
    "    'age': ['B1PAGE_M2'],  # single column\n",
    "    'sex': ['B1PRSEX'], # single column\n",
    "    'caffeine': ['B4AD64', 'B4AD74', 'B4AD14', 'B4AD24', 'B4AD34', 'B4AD44', 'B4AD54'], # Sunday to Saturday\n",
    "    'napped': ['B4AD63', 'B4AD73', 'B4AD13', 'B4AD23', 'B4AD33', 'B4AD43', 'B4AD53'], # Sunday to Saturday\n",
    "    'nap_length': ['B4AD63S', 'B4AD73S', 'B4AD13S', 'B4AD23S', 'B4AD33S', 'B4AD43S', 'B4AD53S'], # Sunday to Saturday\n",
    "    'sleep_medication': ['B4AD57', 'B4AD67', 'B4AD77', 'B4AD17', 'B4AD27', 'B4AD37', 'B4AD47'], # Sunday to Saturday\n",
    "    'alcohol': ['B4AD65', 'B4AD75', 'B4AD15', 'B4AD25', 'B4AD35', 'B4AD45', 'B4AD55'], # Sunday to Saturday\n",
    "    'exercise': ['B4AD62', 'B4AD72', 'B4AD12', 'B4AD22', 'B4AD32', 'B4AD42', 'B4AD52'], # Sunday to Saturday\n",
    "    'noise': ['B4AD612', 'B4AD712', 'B4AD112', 'B4AD212', 'B4AD312', 'B4AD412', 'B4AD512'], # Sunday to Saturday\n",
    "    'bedtime': ['B4AD58', 'B4AD68', 'B4AD78', 'B4AD18', 'B4AD28', 'B4AD38', 'B4AD48'], # Sunday to Saturday    \n",
    "    'wakeup_time': ['B4AD515', 'B4AD615', 'B4AD715', 'B4AD115','B4AD215', 'B4AD315', 'B4AD415'] # Sunday to Saturday\n",
    "}\n",
    "\n",
    "output_columns_to_select = {\n",
    "    'quality': ['B4AD620', 'B4AD720', 'B4AD120', 'B4AD220', 'B4AD320', 'B4AD420', 'B4AD520'], # Monday to Sunday\n",
    "    'rested': ['B4AD618', 'B4AD718', 'B4AD118', 'B4AD218', 'B4AD318', 'B4AD418', 'B4AD518'], # Monday to Sunday\n",
    "    'minutes_to_sleep': ['B4AD69', 'B4AD79', 'B4AD19', 'B4AD29', 'B4AD39', 'B4AD49', 'B4AD59'], # Monday to Sunday\n",
    "    'depth_of_sleep': ['B4AD617', 'B4AD717', 'B4AD117', 'B4AD217', 'B4AD317', 'B4AD417', 'B4AD517'], # Monday to Sunday\n",
    "    'difficulty_of_sleep': ['B4AD610', 'B4AD710', 'B4AD110', 'B4AD210', 'B4AD310', 'B4AD410', 'B4AD510'] # Monday to Sunday\n",
    "}\n",
    "\n",
    "day_names = [\"day1\", \"day2\", \"day3\", \"day4\", \"day5\", \"day6\", \"day7\"]\n",
    "\n",
    "# First, we will create a new DataFrame with one row per ID per day : Repeat each row 7 times, one for each day\n",
    "df_expanded = data.loc[data.index.repeat(7)].reset_index(drop=True)\n",
    "df_expanded['day'] = day_names * len(data)  # Assign day names\n",
    "\n",
    "# Now we fill in the single-column variables (they don't depend on day)\n",
    "for var_name, col_list in input_columns_to_select.items():\n",
    "    if len(col_list) == 1:\n",
    "        # Single column variable: just copy it over (its value repeats for all 7 days)\n",
    "        df_expanded[var_name] = df_expanded[col_list[0]]\n",
    "\n",
    "for var_name, col_list in output_columns_to_select.items():\n",
    "    if len(col_list) == 1:\n",
    "        # If any output columns were single-day (none in this example, but just in case)\n",
    "        df_expanded[var_name] = df_expanded[col_list[0]]\n",
    "\n",
    "# Now handle the multi-day variables : For each multi-day variable, we select the correct column based on the day\n",
    "def assign_multiday_variable(df, var_name, columns):\n",
    "    # Columns is a list of length 7 : We have a 'day' column that can tell us which day row corresponds to.\n",
    "    for i, d in enumerate(day_names):\n",
    "        day_mask = df['day'] == d\n",
    "        df.loc[day_mask, var_name] = df.loc[day_mask, columns[i]]\n",
    "\n",
    "for var_name, col_list in input_columns_to_select.items():\n",
    "    if len(col_list) == 7:\n",
    "        assign_multiday_variable(df_expanded, var_name, col_list)\n",
    "\n",
    "for var_name, col_list in output_columns_to_select.items():\n",
    "    if len(col_list) == 7:\n",
    "        assign_multiday_variable(df_expanded, var_name, col_list)\n",
    "\n",
    "final_df = df_expanded[[*Ids, 'day'] + list(input_columns_to_select.keys()) + list(output_columns_to_select.keys())]\n",
    "\n",
    "def calculate_hours_slept(bedtime, wakeuptime):\n",
    "    if bedtime < 1200:  # Bedtime after midnight\n",
    "        return (wakeuptime - bedtime) / 100.0  # Convert to hours\n",
    "    else:  # Bedtime before midnight\n",
    "        return ((2400 - bedtime) + wakeuptime) / 100.0  # Convert to hours\n",
    "\n",
    "# Apply the function to the DataFrame\n",
    "final_df = final_df.copy()\n",
    "final_df['hours_slept'] = final_df.apply(\n",
    "    lambda row: calculate_hours_slept(row['bedtime'], row['wakeup_time']),\n",
    "    axis=1\n",
    ")\n"
   ]
  },
  {
   "cell_type": "markdown",
   "metadata": {},
   "source": [
    "# Filter the Data"
   ]
  },
  {
   "cell_type": "code",
   "execution_count": 44,
   "metadata": {},
   "outputs": [],
   "source": [
    "# Used for calculating the actual sleep time\n",
    "def calculate_sleep_duration(bedtime_min, wakeup_min):\n",
    "    \"\"\"\n",
    "    Calculates sleep duration in hours based on bedtime and wakeup time in HHMM format.\n",
    "    Assumes bedtime and wakeup_time are in 24-hour format without any AM/PM distinction.\n",
    "    \"\"\"\n",
    "    # Convert bedtime and wakeup_time to minutes since midnight\n",
    "    bedtime_hours = bedtime_min // 100\n",
    "    bedtime_minutes = bedtime_min % 100\n",
    "    wakeup_hours = wakeup_min // 100\n",
    "    wakeup_minutes = wakeup_min % 100\n",
    "    \n",
    "    bedtime_total = bedtime_hours * 60 + bedtime_minutes\n",
    "    wakeup_total = wakeup_hours * 60 + wakeup_minutes\n",
    "    \n",
    "    if bedtime_total < wakeup_total:\n",
    "        duration = (wakeup_total - bedtime_total) / 60  # Convert minutes to hours\n",
    "    else:\n",
    "        duration = ((1440 - bedtime_total) + wakeup_total) / 60  # Overnight sleep\n",
    "    \n",
    "    return duration"
   ]
  },
  {
   "cell_type": "code",
   "execution_count": 47,
   "metadata": {},
   "outputs": [
    {
     "name": "stdout",
     "output_type": "stream",
     "text": [
      "'sleep_duration' already exists and is properly calculated.\n"
     ]
    }
   ],
   "source": [
    "# Given mappings from your dictionaries to final_df columns\n",
    "input_bounds = {\n",
    "    \"caffeine\": (0, 12),\n",
    "    \"napped\": (1, 2),\n",
    "    \"nap_length\": (0, 996),\n",
    "    \"sleep_medication\": (1, 2),\n",
    "    \"alcohol\": (0, 12),\n",
    "    \"exercise\": (0, 996),\n",
    "    \"noise\": (1, 2),\n",
    "    \"bedtime\": (0, 9996),\n",
    "    \"wakeup_time\": (0, 9996)\n",
    "}\n",
    "\n",
    "output_bounds = {\n",
    "    \"quality\": (1, 5),\n",
    "    \"rested\": (1, 5),\n",
    "    \"minutes_to_sleep\": (0, 996),\n",
    "    \"depth_of_sleep\": (1, 5),\n",
    "    \"difficulty_of_sleep\": (1, 5)\n",
    "}\n",
    "\n",
    "# Start with a mask of all True (meaning keep all rows initially)\n",
    "mask = pd.Series(True, index=final_df.index)\n",
    "\n",
    "# Check inputs against their bounds\n",
    "for var, (lower, upper) in input_bounds.items():\n",
    "    if var in final_df.columns:\n",
    "        if var == \"nap_length\":\n",
    "            # Special handling for napped column\n",
    "            final_df[\"nap_length\"] = final_df[\"nap_length\"].apply(\n",
    "                lambda x: 0 if pd.isna(x) or not (lower <= x <= upper) else x\n",
    "            )\n",
    "        else:\n",
    "            mask = mask & (final_df[var].between(lower, upper, inclusive='both'))\n",
    "\n",
    "# Check outputs against their bounds\n",
    "for var, (lower, upper) in output_bounds.items():\n",
    "    if var in final_df.columns:\n",
    "        mask = mask & (final_df[var].between(lower, upper, inclusive='both'))\n",
    "\n",
    "if final_df['day'].dtype == str:\n",
    "    final_df['day'] = final_df['day'].str.replace('day', '').astype(int)\n",
    "\n",
    "# Check if 'sleep_duration' exists and is correctly calculated\n",
    "if 'sleep_duration' not in final_df.columns or final_df['sleep_duration'].isnull().sum() > 0:\n",
    "    final_df['sleep_duration'] = final_df.apply(\n",
    "        lambda row: calculate_sleep_duration(row['bedtime'], row['wakeup_time']),\n",
    "        axis=1\n",
    "    )\n",
    "    # Impute any missing values with median\n",
    "    final_df['sleep_duration'].fillna(final_df['sleep_duration'].median(), inplace=True)\n",
    "    print(\"Calculated and imputed 'sleep_duration'.\")\n",
    "else:\n",
    "    print(\"'sleep_duration' already exists and is properly calculated.\")\n",
    "\n",
    "# Drop 'hours_slept' if it's redundant\n",
    "if 'hours_slept' in final_df.columns:\n",
    "    final_df.drop(['hours_slept'], axis=1, inplace=True)\n",
    "    print(\"Dropped 'hours_slept' as it's redundant with 'sleep_duration'.\")\n",
    "\n",
    "# Apply the mask to filter the DataFrame\n",
    "final_df = final_df[mask].reset_index(drop=True)"
   ]
  },
  {
   "cell_type": "markdown",
   "metadata": {},
   "source": [
    "# Writing to the actual file"
   ]
  },
  {
   "cell_type": "code",
   "execution_count": 48,
   "metadata": {},
   "outputs": [],
   "source": [
    "# Specify the folder & File Name\n",
    "output_folder = 'data'\n",
    "output_filename = 'updated.tsv'\n",
    "output_path = os.path.join(output_folder, output_filename)\n",
    "\n",
    "# Ensure the output folder exists\n",
    "os.makedirs(output_folder, exist_ok=True)\n",
    "\n",
    "# Save the DataFrame to a TSV file\n",
    "final_df.to_csv(output_path, sep='\\t', index=False)"
   ]
  },
  {
   "cell_type": "code",
   "execution_count": null,
   "metadata": {},
   "outputs": [],
   "source": []
  }
 ],
 "metadata": {
  "kernelspec": {
   "display_name": "178env",
   "language": "python",
   "name": "python3"
  },
  "language_info": {
   "codemirror_mode": {
    "name": "ipython",
    "version": 3
   },
   "file_extension": ".py",
   "mimetype": "text/x-python",
   "name": "python",
   "nbconvert_exporter": "python",
   "pygments_lexer": "ipython3",
   "version": "3.13.0"
  }
 },
 "nbformat": 4,
 "nbformat_minor": 2
}
